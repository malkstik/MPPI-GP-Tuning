{
 "cells": [
  {
   "cell_type": "code",
   "execution_count": 4,
   "metadata": {},
   "outputs": [],
   "source": [
    "from run import *\n",
    "OBS_INIT = 1"
   ]
  },
  {
   "cell_type": "code",
   "execution_count": null,
   "metadata": {},
   "outputs": [],
   "source": [
    "collected_data = collect_data(OBS_INIT)"
   ]
  },
  {
   "cell_type": "code",
   "execution_count": null,
   "metadata": {},
   "outputs": [],
   "source": [
    "train_x, train_y = load_data(OBS_INIT)"
   ]
  },
  {
   "cell_type": "code",
   "execution_count": null,
   "metadata": {},
   "outputs": [],
   "source": [
    "train_gp(train_x, train_y, OBS_INIT)"
   ]
  },
  {
   "cell_type": "code",
   "execution_count": null,
   "metadata": {},
   "outputs": [],
   "source": [
    "optimum_hp, optimum_cost = run_TS(train_x, train_y, OBS_INIT)\n",
    "print('Optimal HP: ', optimum_hp)\n",
    "print('Optimal Cost: ', optimum_cost)"
   ]
  },
  {
   "cell_type": "code",
   "execution_count": null,
   "metadata": {},
   "outputs": [],
   "source": [
    "run_CMA(OBS_INIT)"
   ]
  },
  {
   "cell_type": "code",
   "execution_count": 5,
   "metadata": {},
   "outputs": [
    {
     "name": "stderr",
     "output_type": "stream",
     "text": [
      "/home/rob530/.local/lib/python3.8/site-packages/gym/spaces/box.py:127: UserWarning: \u001b[33mWARN: Box bound precision lowered by casting to float32\u001b[0m\n",
      "  logger.warn(f\"Box bound precision lowered by casting to {self.dtype}\")\n"
     ]
    },
    {
     "name": "stdout",
     "output_type": "stream",
     "text": [
      "argv[0]=--opengl2\n"
     ]
    },
    {
     "name": "stderr",
     "output_type": "stream",
     "text": [
      "Succeses: 0 | Total: 22:  22%|██▏       | 22/100 [10:27<37:05, 28.54s/it]\n"
     ]
    },
    {
     "ename": "KeyboardInterrupt",
     "evalue": "",
     "output_type": "error",
     "traceback": [
      "\u001b[0;31m---------------------------------------------------------------------------\u001b[0m",
      "\u001b[0;31mKeyboardInterrupt\u001b[0m                         Traceback (most recent call last)",
      "Cell \u001b[0;32mIn[5], line 4\u001b[0m\n\u001b[1;32m      1\u001b[0m \u001b[39m#Optimized 1\u001b[39;00m\n\u001b[1;32m      2\u001b[0m hyperparameters \u001b[39m=\u001b[39m [\u001b[39m5.38209705132172\u001b[39m, \u001b[39m0.000818226196113964\u001b[39m, \u001b[39m5.69249384639353\u001b[39m, \u001b[39m3.435367933700074\u001b[39m, \u001b[39m6.2953055533397855\u001b[39m]\n\u001b[0;32m----> 4\u001b[0m evalHP(hyperparameters, \u001b[39m100\u001b[39;49m, OBS_INIT)\n",
      "File \u001b[0;32m~/gps-for-bayesian-optimization/run.py:158\u001b[0m, in \u001b[0;36mevalHP\u001b[0;34m(hyperparameters, trials, obsInit)\u001b[0m\n\u001b[1;32m    156\u001b[0m success \u001b[39m=\u001b[39m \u001b[39m0\u001b[39m\n\u001b[1;32m    157\u001b[0m \u001b[39mfor\u001b[39;00m i \u001b[39min\u001b[39;00m pbar:\n\u001b[0;32m--> 158\u001b[0m     _, _, goal_reached \u001b[39m=\u001b[39m execute(env, controller)\n\u001b[1;32m    159\u001b[0m     \u001b[39mif\u001b[39;00m goal_reached:\n\u001b[1;32m    160\u001b[0m         success \u001b[39m+\u001b[39m\u001b[39m=\u001b[39m \u001b[39m1\u001b[39m\n",
      "File \u001b[0;32m~/gps-for-bayesian-optimization/OptimizeHP.py:35\u001b[0m, in \u001b[0;36mexecute\u001b[0;34m(env, controller, num_steps_max)\u001b[0m\n\u001b[1;32m     33\u001b[0m state \u001b[39m=\u001b[39m env\u001b[39m.\u001b[39mreset()\n\u001b[1;32m     34\u001b[0m \u001b[39mfor\u001b[39;00m i \u001b[39min\u001b[39;00m \u001b[39mrange\u001b[39m(num_steps_max):\n\u001b[0;32m---> 35\u001b[0m     action \u001b[39m=\u001b[39m controller\u001b[39m.\u001b[39;49mcontrol(state)\n\u001b[1;32m     36\u001b[0m     state, reward, done, _ \u001b[39m=\u001b[39m env\u001b[39m.\u001b[39mstep(action)\n\u001b[1;32m     37\u001b[0m     \u001b[39mif\u001b[39;00m done:\n",
      "File \u001b[0;32m~/gps-for-bayesian-optimization/learning_state_dynamics.py:654\u001b[0m, in \u001b[0;36mPushingController.control\u001b[0;34m(self, state)\u001b[0m\n\u001b[1;32m    652\u001b[0m state_tensor \u001b[39m=\u001b[39m torch\u001b[39m.\u001b[39mfrom_numpy(state)\n\u001b[1;32m    653\u001b[0m \u001b[39m# ---\u001b[39;00m\n\u001b[0;32m--> 654\u001b[0m action_tensor \u001b[39m=\u001b[39m \u001b[39mself\u001b[39;49m\u001b[39m.\u001b[39;49mmppi\u001b[39m.\u001b[39;49mcommand(state_tensor)\n\u001b[1;32m    655\u001b[0m \u001b[39m# --- Your code here\u001b[39;00m\n\u001b[1;32m    656\u001b[0m action \u001b[39m=\u001b[39m action_tensor\u001b[39m.\u001b[39mcpu()\u001b[39m.\u001b[39mdetach()\u001b[39m.\u001b[39mnumpy()\n",
      "File \u001b[0;32m~/gps-for-bayesian-optimization/mppi.py:228\u001b[0m, in \u001b[0;36mMPPI.command\u001b[0;34m(self, state)\u001b[0m\n\u001b[1;32m    225\u001b[0m \u001b[39mself\u001b[39m\u001b[39m.\u001b[39mU \u001b[39m=\u001b[39m torch\u001b[39m.\u001b[39mroll(\u001b[39mself\u001b[39m\u001b[39m.\u001b[39mU, \u001b[39m-\u001b[39m\u001b[39m1\u001b[39m, dims\u001b[39m=\u001b[39m\u001b[39m0\u001b[39m)\n\u001b[1;32m    226\u001b[0m \u001b[39mself\u001b[39m\u001b[39m.\u001b[39mU[\u001b[39m-\u001b[39m\u001b[39m1\u001b[39m] \u001b[39m=\u001b[39m \u001b[39mself\u001b[39m\u001b[39m.\u001b[39mu_init\n\u001b[0;32m--> 228\u001b[0m \u001b[39mreturn\u001b[39;00m \u001b[39mself\u001b[39;49m\u001b[39m.\u001b[39;49m_command(state)\n",
      "File \u001b[0;32m~/gps-for-bayesian-optimization/mppi.py:234\u001b[0m, in \u001b[0;36mMPPI._command\u001b[0;34m(self, state)\u001b[0m\n\u001b[1;32m    232\u001b[0m     state \u001b[39m=\u001b[39m torch\u001b[39m.\u001b[39mtensor(state)\n\u001b[1;32m    233\u001b[0m \u001b[39mself\u001b[39m\u001b[39m.\u001b[39mstate \u001b[39m=\u001b[39m state\u001b[39m.\u001b[39mto(dtype\u001b[39m=\u001b[39m\u001b[39mself\u001b[39m\u001b[39m.\u001b[39mdtype, device\u001b[39m=\u001b[39m\u001b[39mself\u001b[39m\u001b[39m.\u001b[39md)\n\u001b[0;32m--> 234\u001b[0m cost_total \u001b[39m=\u001b[39m \u001b[39mself\u001b[39;49m\u001b[39m.\u001b[39;49m_compute_total_cost_batch()\n\u001b[1;32m    235\u001b[0m beta \u001b[39m=\u001b[39m torch\u001b[39m.\u001b[39mmin(cost_total)\n\u001b[1;32m    236\u001b[0m \u001b[39mself\u001b[39m\u001b[39m.\u001b[39mcost_total_non_zero \u001b[39m=\u001b[39m _ensure_non_zero(cost_total, beta, \u001b[39m1\u001b[39m \u001b[39m/\u001b[39m \u001b[39mself\u001b[39m\u001b[39m.\u001b[39mlambda_)\n",
      "File \u001b[0;32m~/gps-for-bayesian-optimization/mppi.py:321\u001b[0m, in \u001b[0;36mMPPI._compute_total_cost_batch\u001b[0;34m(self)\u001b[0m\n\u001b[1;32m    315\u001b[0m     \u001b[39m# NOTE: The original paper does self.lambda_ * torch.abs(self.noise) @ self.noise_sigma_inv, but this biases\u001b[39;00m\n\u001b[1;32m    316\u001b[0m     \u001b[39m# the actions with low noise if all states have the same cost. With abs(noise) we prefer actions close to the\u001b[39;00m\n\u001b[1;32m    317\u001b[0m     \u001b[39m# nomial trajectory.\u001b[39;00m\n\u001b[1;32m    318\u001b[0m \u001b[39melse\u001b[39;00m:\n\u001b[1;32m    319\u001b[0m     action_cost \u001b[39m=\u001b[39m \u001b[39mself\u001b[39m\u001b[39m.\u001b[39mlambda_ \u001b[39m*\u001b[39m \u001b[39mself\u001b[39m\u001b[39m.\u001b[39mnoise \u001b[39m@\u001b[39m \u001b[39mself\u001b[39m\u001b[39m.\u001b[39mnoise_sigma_inv  \u001b[39m# Like original paper\u001b[39;00m\n\u001b[0;32m--> 321\u001b[0m \u001b[39mself\u001b[39m\u001b[39m.\u001b[39mcost_total, \u001b[39mself\u001b[39m\u001b[39m.\u001b[39mstates, \u001b[39mself\u001b[39m\u001b[39m.\u001b[39mactions \u001b[39m=\u001b[39m \u001b[39mself\u001b[39;49m\u001b[39m.\u001b[39;49m_compute_rollout_costs(\u001b[39mself\u001b[39;49m\u001b[39m.\u001b[39;49mperturbed_action)\n\u001b[1;32m    322\u001b[0m \u001b[39mself\u001b[39m\u001b[39m.\u001b[39mactions \u001b[39m/\u001b[39m\u001b[39m=\u001b[39m \u001b[39mself\u001b[39m\u001b[39m.\u001b[39mu_scale\n\u001b[1;32m    324\u001b[0m \u001b[39m# action perturbation cost\u001b[39;00m\n",
      "File \u001b[0;32m~/gps-for-bayesian-optimization/mppi.py:278\u001b[0m, in \u001b[0;36mMPPI._compute_rollout_costs\u001b[0;34m(self, perturbed_actions)\u001b[0m\n\u001b[1;32m    275\u001b[0m state \u001b[39m=\u001b[39m \u001b[39mself\u001b[39m\u001b[39m.\u001b[39m_dynamics(state, u, t)\n\u001b[1;32m    277\u001b[0m \u001b[39m#COST FUNCTION\u001b[39;00m\n\u001b[0;32m--> 278\u001b[0m c \u001b[39m=\u001b[39m \u001b[39mself\u001b[39;49m\u001b[39m.\u001b[39;49m_running_cost(state, u, \u001b[39mself\u001b[39;49m\u001b[39m.\u001b[39;49mobs_center, Q)\n\u001b[1;32m    280\u001b[0m cost_samples \u001b[39m+\u001b[39m\u001b[39m=\u001b[39m c\n\u001b[1;32m    281\u001b[0m \u001b[39mif\u001b[39;00m \u001b[39mself\u001b[39m\u001b[39m.\u001b[39mM \u001b[39m>\u001b[39m \u001b[39m1\u001b[39m:\n",
      "File \u001b[0;32m~/gps-for-bayesian-optimization/mppi.py:65\u001b[0m, in \u001b[0;36mhandle_batch_input.<locals>._handle_batch_input.<locals>.wrapper\u001b[0;34m(*args, **kwargs)\u001b[0m\n\u001b[1;32m     63\u001b[0m \u001b[39m# reduce all batch dimensions down to the first one\u001b[39;00m\n\u001b[1;32m     64\u001b[0m args \u001b[39m=\u001b[39m [v\u001b[39m.\u001b[39mview(\u001b[39m-\u001b[39m\u001b[39m1\u001b[39m, \u001b[39m*\u001b[39mv\u001b[39m.\u001b[39mshape[\u001b[39m-\u001b[39m(n \u001b[39m-\u001b[39m \u001b[39m1\u001b[39m):]) \u001b[39mif\u001b[39;00m (is_tensor_like(v) \u001b[39mand\u001b[39;00m \u001b[39mlen\u001b[39m(v\u001b[39m.\u001b[39mshape) \u001b[39m>\u001b[39m \u001b[39m2\u001b[39m) \u001b[39melse\u001b[39;00m v \u001b[39mfor\u001b[39;00m v \u001b[39min\u001b[39;00m args]\n\u001b[0;32m---> 65\u001b[0m ret \u001b[39m=\u001b[39m func(\u001b[39m*\u001b[39;49margs, \u001b[39m*\u001b[39;49m\u001b[39m*\u001b[39;49mkwargs)\n\u001b[1;32m     66\u001b[0m \u001b[39m# restore original batch dimensions; keep variable dimension (nx)\u001b[39;00m\n\u001b[1;32m     67\u001b[0m \u001b[39mif\u001b[39;00m \u001b[39mtype\u001b[39m(ret) \u001b[39mis\u001b[39;00m \u001b[39mtuple\u001b[39m:\n",
      "File \u001b[0;32m~/gps-for-bayesian-optimization/mppi.py:217\u001b[0m, in \u001b[0;36mMPPI._running_cost\u001b[0;34m(self, state, u, obs_center, Q)\u001b[0m\n\u001b[1;32m    215\u001b[0m \u001b[39m@handle_batch_input\u001b[39m(n\u001b[39m=\u001b[39m\u001b[39m2\u001b[39m)\n\u001b[1;32m    216\u001b[0m \u001b[39mdef\u001b[39;00m \u001b[39m_running_cost\u001b[39m(\u001b[39mself\u001b[39m, state, u, obs_center, Q):\n\u001b[0;32m--> 217\u001b[0m     \u001b[39mreturn\u001b[39;00m \u001b[39mself\u001b[39;49m\u001b[39m.\u001b[39;49mrunning_cost(state, u, obs_center, Q)\n",
      "File \u001b[0;32m~/gps-for-bayesian-optimization/learning_state_dynamics.py:586\u001b[0m, in \u001b[0;36mobstacle_avoidance_pushing_cost_function\u001b[0;34m(state, action, OBSTACLE_CENTRE, Q)\u001b[0m\n\u001b[1;32m    584\u001b[0m in_collision \u001b[39m=\u001b[39m torch\u001b[39m.\u001b[39mzeros((B), dtype\u001b[39m=\u001b[39m \u001b[39mbool\u001b[39m)\n\u001b[1;32m    585\u001b[0m \u001b[39mfor\u001b[39;00m j \u001b[39min\u001b[39;00m \u001b[39mrange\u001b[39m(\u001b[39m3\u001b[39m):\n\u001b[0;32m--> 586\u001b[0m     in_collision \u001b[39m=\u001b[39m torch\u001b[39m.\u001b[39mlogical_or(in_collision, collision_detection(state, OBSTACLE_CENTRE[j]))\n\u001b[1;32m    587\u001b[0m in_collision \u001b[39m=\u001b[39m torch\u001b[39m.\u001b[39mwhere(in_collision, \u001b[39m1\u001b[39m, \u001b[39m0\u001b[39m)\u001b[39m.\u001b[39mtype(torch\u001b[39m.\u001b[39mfloat)\n\u001b[1;32m    588\u001b[0m \u001b[39m# if torch.min(in_collision) >0:\u001b[39;00m\n\u001b[1;32m    589\u001b[0m \u001b[39m#     print(\"Couldn't find one without colliding\")\u001b[39;00m\n",
      "File \u001b[0;32m~/gps-for-bayesian-optimization/learning_state_dynamics.py:476\u001b[0m, in \u001b[0;36mcollision_detection\u001b[0;34m(state, obs_centre)\u001b[0m\n\u001b[1;32m    472\u001b[0m         sgnj \u001b[39m=\u001b[39m torch\u001b[39m.\u001b[39msign(torch\u001b[39m.\u001b[39msum(sij \u001b[39m*\u001b[39m ni, dim\u001b[39m=\u001b[39m\u001b[39m1\u001b[39m))\n\u001b[1;32m    474\u001b[0m         temp_axis[sgni \u001b[39m*\u001b[39m sgnj \u001b[39m>\u001b[39m \u001b[39m0\u001b[39m] \u001b[39m=\u001b[39m \u001b[39m0\u001b[39m\n\u001b[0;32m--> 476\u001b[0m     in_collision[temp_axis \u001b[39m==\u001b[39;49m \u001b[39m1\u001b[39;49m] \u001b[39m=\u001b[39m \u001b[39m0\u001b[39m \u001b[39m# Found seperating axis: no j vert ruled out i's edge\u001b[39;00m\n\u001b[1;32m    477\u001b[0m     si_Minus \u001b[39m=\u001b[39m \u001b[39m-\u001b[39msi_Plus\n\u001b[1;32m    479\u001b[0m \u001b[39m# ---\u001b[39;00m\n",
      "\u001b[0;31mKeyboardInterrupt\u001b[0m: "
     ]
    }
   ],
   "source": [
    "#Optimized 1\n",
    "hyperparameters = [5.38209705132172, 0.000818226196113964, 5.69249384639353, 3.435367933700074, 6.2953055533397855]\n",
    "\n",
    "evalHP(hyperparameters, 100, OBS_INIT)\n"
   ]
  },
  {
   "cell_type": "code",
   "execution_count": null,
   "metadata": {},
   "outputs": [],
   "source": [
    "#Optimized 1\n",
    "hyperparameters = [0.5, 0.01, 1, 1, 0.1]\n",
    "\n",
    "evalHP(hyperparameters, 100, OBS_INIT)"
   ]
  }
 ],
 "metadata": {
  "kernelspec": {
   "display_name": "Python 3",
   "language": "python",
   "name": "python3"
  },
  "language_info": {
   "codemirror_mode": {
    "name": "ipython",
    "version": 3
   },
   "file_extension": ".py",
   "mimetype": "text/x-python",
   "name": "python",
   "nbconvert_exporter": "python",
   "pygments_lexer": "ipython3",
   "version": "3.8.10"
  },
  "orig_nbformat": 4
 },
 "nbformat": 4,
 "nbformat_minor": 2
}
