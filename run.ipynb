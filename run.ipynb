{
 "cells": [
  {
   "cell_type": "code",
   "execution_count": 1,
   "metadata": {},
   "outputs": [
    {
     "name": "stderr",
     "output_type": "stream",
     "text": [
      "pybullet build time: May 20 2022 19:44:17\n",
      "/home/rob530/.local/lib/python3.8/site-packages/gym/spaces/box.py:127: UserWarning: \u001b[33mWARN: Box bound precision lowered by casting to float32\u001b[0m\n",
      "  logger.warn(f\"Box bound precision lowered by casting to {self.dtype}\")\n"
     ]
    },
    {
     "name": "stdout",
     "output_type": "stream",
     "text": [
      "argv[0]=--opengl2\n"
     ]
    }
   ],
   "source": [
    "from run import *\n",
    "OBS_INIT = 4\n",
    "%load_ext autoreload\n",
    "%autoreload 2"
   ]
  },
  {
   "cell_type": "code",
   "execution_count": null,
   "metadata": {},
   "outputs": [],
   "source": [
    "collected_data = collect_data(OBS_INIT)"
   ]
  },
  {
   "cell_type": "code",
   "execution_count": null,
   "metadata": {},
   "outputs": [],
   "source": [
    "train_x, train_y = load_data(OBS_INIT)"
   ]
  },
  {
   "cell_type": "code",
   "execution_count": null,
   "metadata": {},
   "outputs": [],
   "source": [
    "train_gp(train_x, train_y, OBS_INIT)"
   ]
  },
  {
   "cell_type": "code",
   "execution_count": null,
   "metadata": {},
   "outputs": [],
   "source": [
    "optimum_hp, optimum_cost = run_TS(train_x, train_y, OBS_INIT)\n",
    "print('Optimal HP: ', optimum_hp)\n",
    "print('Optimal Cost: ', optimum_cost)"
   ]
  },
  {
   "cell_type": "code",
   "execution_count": 2,
   "metadata": {},
   "outputs": [
    {
     "name": "stdout",
     "output_type": "stream",
     "text": [
      "(4_w,8)-aCMA-ES (mu_w=2.6,w_1=52%) in dimension 5 (seed=536188, Thu Apr 13 22:00:04 2023)\n",
      "Iterat #Fevals   function value  axis ratio  sigma  min&max std  t[m:s]\n",
      "    1      8 1.184725280587977e+01 1.0e+00 1.03e+00  1e+00  1e+00 2:57.5\n"
     ]
    },
    {
     "ename": "KeyboardInterrupt",
     "evalue": "",
     "output_type": "error",
     "traceback": [
      "\u001b[0;31m---------------------------------------------------------------------------\u001b[0m",
      "\u001b[0;31mKeyboardInterrupt\u001b[0m                         Traceback (most recent call last)",
      "Cell \u001b[0;32mIn[2], line 1\u001b[0m\n\u001b[0;32m----> 1\u001b[0m run_CMA(OBS_INIT)\n",
      "File \u001b[0;32m~/gps-for-bayesian-optimization/run.py:143\u001b[0m, in \u001b[0;36mrun_CMA\u001b[0;34m(obsInit)\u001b[0m\n\u001b[1;32m    141\u001b[0m opts \u001b[39m=\u001b[39m cma\u001b[39m.\u001b[39mCMAOptions()\n\u001b[1;32m    142\u001b[0m opts\u001b[39m.\u001b[39mset(\u001b[39m\"\u001b[39m\u001b[39mbounds\u001b[39m\u001b[39m\"\u001b[39m, [[\u001b[39m0\u001b[39m, \u001b[39m0\u001b[39m, \u001b[39m0\u001b[39m, \u001b[39m0\u001b[39m, \u001b[39m0\u001b[39m], [\u001b[39mNone\u001b[39;00m, \u001b[39mNone\u001b[39;00m, \u001b[39mNone\u001b[39;00m, \u001b[39mNone\u001b[39;00m, \u001b[39mNone\u001b[39;00m]])\n\u001b[0;32m--> 143\u001b[0m res \u001b[39m=\u001b[39m cma\u001b[39m.\u001b[39;49mfmin(CMA_evaluate, [\u001b[39m0.5\u001b[39;49m, \u001b[39m0.01\u001b[39;49m, \u001b[39m1\u001b[39;49m, \u001b[39m1\u001b[39;49m, \u001b[39m0.1\u001b[39;49m], \u001b[39m1\u001b[39;49m, opts)\n\u001b[1;32m    144\u001b[0m es \u001b[39m=\u001b[39m cma\u001b[39m.\u001b[39mCMAEvolutionStrategy([\u001b[39m0.5\u001b[39m, \u001b[39m0.01\u001b[39m, \u001b[39m1\u001b[39m, \u001b[39m1\u001b[39m, \u001b[39m0.1\u001b[39m], \u001b[39m1\u001b[39m)\u001b[39m.\u001b[39moptimize(CMA_evaluate)\n",
      "File \u001b[0;32m~/.local/lib/python3.8/site-packages/cma/evolution_strategy.py:4818\u001b[0m, in \u001b[0;36mfmin\u001b[0;34m(objective_function, x0, sigma0, options, args, gradf, restarts, restart_from_best, incpopsize, eval_initial_x, parallel_objective, noise_handler, noise_change_sigma_exponent, noise_kappa_exponent, bipop, callback)\u001b[0m\n\u001b[1;32m   4815\u001b[0m \u001b[39mif\u001b[39;00m \u001b[39m1\u001b[39m \u001b[39m<\u001b[39m \u001b[39m3\u001b[39m:\n\u001b[1;32m   4816\u001b[0m     \u001b[39mwhile\u001b[39;00m \u001b[39mnot\u001b[39;00m es\u001b[39m.\u001b[39mstop():  \u001b[39m# iteration loop\u001b[39;00m\n\u001b[1;32m   4817\u001b[0m         \u001b[39m# X, fit = eval_in_parallel(lambda: es.ask(1)[0], es.popsize, args, repetitions=noisehandler.evaluations-1)\u001b[39;00m\n\u001b[0;32m-> 4818\u001b[0m         X, fit \u001b[39m=\u001b[39m es\u001b[39m.\u001b[39;49mask_and_eval(parallel_objective \u001b[39mor\u001b[39;49;00m objective_function,\n\u001b[1;32m   4819\u001b[0m                                  args, gradf\u001b[39m=\u001b[39;49mgradf,\n\u001b[1;32m   4820\u001b[0m                                  evaluations\u001b[39m=\u001b[39;49mnoisehandler\u001b[39m.\u001b[39;49mevaluations,\n\u001b[1;32m   4821\u001b[0m                                  aggregation\u001b[39m=\u001b[39;49mnp\u001b[39m.\u001b[39;49mmedian,\n\u001b[1;32m   4822\u001b[0m                                  parallel_mode\u001b[39m=\u001b[39;49mparallel_objective)  \u001b[39m# treats NaN with resampling if not parallel_mode\u001b[39;00m\n\u001b[1;32m   4823\u001b[0m         \u001b[39m# TODO: check args and in case use args=(noisehandler.evaluations, )\u001b[39;00m\n\u001b[1;32m   4825\u001b[0m         \u001b[39mif\u001b[39;00m \u001b[39m11\u001b[39m \u001b[39m<\u001b[39m \u001b[39m3\u001b[39m \u001b[39mand\u001b[39;00m opts[\u001b[39m'\u001b[39m\u001b[39mvv\u001b[39m\u001b[39m'\u001b[39m]:  \u001b[39m# inject a solution\u001b[39;00m\n\u001b[1;32m   4826\u001b[0m             \u001b[39m# use option check_point = [0]\u001b[39;00m\n",
      "File \u001b[0;32m~/.local/lib/python3.8/site-packages/cma/evolution_strategy.py:2528\u001b[0m, in \u001b[0;36mCMAEvolutionStrategy.ask_and_eval\u001b[0;34m(self, func, args, gradf, number, xmean, sigma_fac, evaluations, aggregation, kappa, parallel_mode)\u001b[0m\n\u001b[1;32m   2524\u001b[0m     length_normalizer \u001b[39m=\u001b[39m \u001b[39mself\u001b[39m\u001b[39m.\u001b[39mN\u001b[39m*\u001b[39m\u001b[39m*\u001b[39m\u001b[39m0.5\u001b[39m \u001b[39m/\u001b[39m \u001b[39mself\u001b[39m\u001b[39m.\u001b[39mmahalanobis_norm(x \u001b[39m-\u001b[39m xmean)  \u001b[39m# self.const.chiN < N**0.5, the constant here is irrelevant (absorbed by kappa)\u001b[39;00m\n\u001b[1;32m   2525\u001b[0m     \u001b[39m# print(self.N**0.5 / self.mahalanobis_norm(x - xmean))\u001b[39;00m\n\u001b[1;32m   2526\u001b[0m     \u001b[39m# self.more_to_write += [length_normalizer * 1e-3, length_normalizer * self.mahalanobis_norm(x - xmean) * 1e2]\u001b[39;00m\n\u001b[0;32m-> 2528\u001b[0m f \u001b[39m=\u001b[39m func(x, \u001b[39m*\u001b[39;49margs) \u001b[39mif\u001b[39;00m kappa \u001b[39m==\u001b[39m \u001b[39m1\u001b[39m \u001b[39melse\u001b[39;00m \\\n\u001b[1;32m   2529\u001b[0m     func(xmean \u001b[39m+\u001b[39m kappa \u001b[39m*\u001b[39m length_normalizer \u001b[39m*\u001b[39m (x \u001b[39m-\u001b[39m xmean),\n\u001b[1;32m   2530\u001b[0m          \u001b[39m*\u001b[39margs)\n\u001b[1;32m   2531\u001b[0m \u001b[39mif\u001b[39;00m is_feasible(x, f) \u001b[39mand\u001b[39;00m evaluations \u001b[39m>\u001b[39m \u001b[39m1\u001b[39m:\n\u001b[1;32m   2532\u001b[0m     f \u001b[39m=\u001b[39m aggregation([f] \u001b[39m+\u001b[39m [(func(x, \u001b[39m*\u001b[39margs) \u001b[39mif\u001b[39;00m kappa \u001b[39m==\u001b[39m \u001b[39m1\u001b[39m \u001b[39melse\u001b[39;00m\n\u001b[1;32m   2533\u001b[0m                             func(xmean \u001b[39m+\u001b[39m kappa \u001b[39m*\u001b[39m length_normalizer \u001b[39m*\u001b[39m (x \u001b[39m-\u001b[39m xmean), \u001b[39m*\u001b[39margs))\n\u001b[1;32m   2534\u001b[0m                            \u001b[39mfor\u001b[39;00m _i \u001b[39min\u001b[39;00m \u001b[39mrange\u001b[39m(\u001b[39mint\u001b[39m(evaluations \u001b[39m-\u001b[39m \u001b[39m1\u001b[39m))])\n",
      "File \u001b[0;32m~/gps-for-bayesian-optimization/run.py:132\u001b[0m, in \u001b[0;36mCMA_evaluate\u001b[0;34m(hyperparameters)\u001b[0m\n\u001b[1;32m    129\u001b[0m CMA_CONTROLLER\u001b[39m.\u001b[39mmppi\u001b[39m.\u001b[39mtheta_weight \u001b[39m=\u001b[39m hyperparameters[\u001b[39m4\u001b[39m]\n\u001b[1;32m    131\u001b[0m \u001b[39m#Simulate\u001b[39;00m\n\u001b[0;32m--> 132\u001b[0m i, goal_distance, goal_reached \u001b[39m=\u001b[39m execute(CMA_ENV, CMA_CONTROLLER)\n\u001b[1;32m    134\u001b[0m \u001b[39m#Retrieve cost\u001b[39;00m\n\u001b[1;32m    135\u001b[0m cost \u001b[39m=\u001b[39m execution_cost(i, goal_distance, goal_reached)\n",
      "File \u001b[0;32m~/gps-for-bayesian-optimization/OptimizeHP.py:36\u001b[0m, in \u001b[0;36mexecute\u001b[0;34m(env, controller, num_steps_max)\u001b[0m\n\u001b[1;32m     34\u001b[0m \u001b[39mfor\u001b[39;00m i \u001b[39min\u001b[39;00m \u001b[39mrange\u001b[39m(num_steps_max):\n\u001b[1;32m     35\u001b[0m     action \u001b[39m=\u001b[39m controller\u001b[39m.\u001b[39mcontrol(state)\n\u001b[0;32m---> 36\u001b[0m     state, reward, done, _ \u001b[39m=\u001b[39m env\u001b[39m.\u001b[39;49mstep(action)\n\u001b[1;32m     37\u001b[0m     \u001b[39mif\u001b[39;00m done:\n\u001b[1;32m     38\u001b[0m         \u001b[39mbreak\u001b[39;00m\n",
      "File \u001b[0;32m~/gps-for-bayesian-optimization/panda_pushing_env.py:232\u001b[0m, in \u001b[0;36mPandaPushingEnv.step\u001b[0;34m(self, action)\u001b[0m\n\u001b[1;32m    230\u001b[0m push_length \u001b[39m=\u001b[39m push_length_fraction \u001b[39m*\u001b[39m \u001b[39mself\u001b[39m\u001b[39m.\u001b[39mpush_length\n\u001b[1;32m    231\u001b[0m \u001b[39m# Perform the action\u001b[39;00m\n\u001b[0;32m--> 232\u001b[0m \u001b[39mself\u001b[39;49m\u001b[39m.\u001b[39;49mpush(push_location, push_angle, push_length\u001b[39m=\u001b[39;49mpush_length)\n\u001b[1;32m    233\u001b[0m state \u001b[39m=\u001b[39m \u001b[39mself\u001b[39m\u001b[39m.\u001b[39mget_state()\n\u001b[1;32m    234\u001b[0m reward \u001b[39m=\u001b[39m \u001b[39m0.\u001b[39m\n",
      "File \u001b[0;32m~/gps-for-bayesian-optimization/panda_pushing_env.py:294\u001b[0m, in \u001b[0;36mPandaPushingEnv.push\u001b[0;34m(self, push_location, push_angle, push_length)\u001b[0m\n\u001b[1;32m    292\u001b[0m \u001b[39m# set theta\u001b[39;00m\n\u001b[1;32m    293\u001b[0m \u001b[39mself\u001b[39m\u001b[39m.\u001b[39mlower_down()\n\u001b[0;32m--> 294\u001b[0m \u001b[39mself\u001b[39;49m\u001b[39m.\u001b[39;49mplanar_push(theta, push_length\u001b[39m=\u001b[39;49mstart_gap\u001b[39m-\u001b[39;49m\u001b[39m0.015\u001b[39;49m\u001b[39m-\u001b[39;49m\u001b[39m.5\u001b[39;49m\u001b[39m*\u001b[39;49m\u001b[39mself\u001b[39;49m\u001b[39m.\u001b[39;49mblock_size, step_size\u001b[39m=\u001b[39;49m\u001b[39m0.005\u001b[39;49m) \u001b[39m# push until barely touch the block\u001b[39;00m\n\u001b[1;32m    295\u001b[0m \u001b[39mself\u001b[39m\u001b[39m.\u001b[39mis_render_on \u001b[39m=\u001b[39m \u001b[39mTrue\u001b[39;00m\n\u001b[1;32m    296\u001b[0m \u001b[39mself\u001b[39m\u001b[39m.\u001b[39mplanar_push(push_angle \u001b[39m+\u001b[39m theta, push_length\u001b[39m=\u001b[39mpush_length, step_size\u001b[39m=\u001b[39m\u001b[39m0.005\u001b[39m)\n",
      "File \u001b[0;32m~/gps-for-bayesian-optimization/panda_pushing_env.py:273\u001b[0m, in \u001b[0;36mPandaPushingEnv.planar_push\u001b[0;34m(self, push_angle, push_length, step_size)\u001b[0m\n\u001b[1;32m    271\u001b[0m current_pos \u001b[39m=\u001b[39m \u001b[39mself\u001b[39m\u001b[39m.\u001b[39mget_end_effector_pos()\n\u001b[1;32m    272\u001b[0m target_pos \u001b[39m=\u001b[39m current_pos \u001b[39m+\u001b[39m push_length \u001b[39m*\u001b[39m np\u001b[39m.\u001b[39marray([np\u001b[39m.\u001b[39mcos(push_angle), np\u001b[39m.\u001b[39msin(push_angle), \u001b[39m0\u001b[39m])\n\u001b[0;32m--> 273\u001b[0m \u001b[39mself\u001b[39;49m\u001b[39m.\u001b[39;49m_move_ee_trajectory(target_pos, step_size\u001b[39m=\u001b[39;49mstep_size)\n",
      "File \u001b[0;32m~/gps-for-bayesian-optimization/panda_pushing_env.py:309\u001b[0m, in \u001b[0;36mPandaPushingEnv._move_ee_trajectory\u001b[0;34m(self, target_ee_pos, step_size)\u001b[0m\n\u001b[1;32m    307\u001b[0m     target_ee_pos_i \u001b[39m=\u001b[39m start_ee_pos \u001b[39m+\u001b[39m step_size \u001b[39m*\u001b[39m step_i \u001b[39m*\u001b[39m goal_dir\n\u001b[1;32m    308\u001b[0m     render_step_i \u001b[39m=\u001b[39m step_i \u001b[39m%\u001b[39m \u001b[39mself\u001b[39m\u001b[39m.\u001b[39mrender_every_n_steps \u001b[39m==\u001b[39m \u001b[39m0\u001b[39m\n\u001b[0;32m--> 309\u001b[0m     \u001b[39mself\u001b[39;49m\u001b[39m.\u001b[39;49m_move_robot_ee(target_ee_pos_i, render\u001b[39m=\u001b[39;49mrender_step_i)\n\u001b[1;32m    310\u001b[0m \u001b[39mself\u001b[39m\u001b[39m.\u001b[39m_move_robot_ee(target_ee_pos, render\u001b[39m=\u001b[39m\u001b[39mTrue\u001b[39;00m)\n",
      "File \u001b[0;32m~/gps-for-bayesian-optimization/panda_pushing_env.py:317\u001b[0m, in \u001b[0;36mPandaPushingEnv._move_robot_ee\u001b[0;34m(self, target_ee_pos, render)\u001b[0m\n\u001b[1;32m    315\u001b[0m repeat_counter \u001b[39m=\u001b[39m \u001b[39m0\u001b[39m\n\u001b[1;32m    316\u001b[0m \u001b[39mwhile\u001b[39;00m distance \u001b[39m>\u001b[39m \u001b[39mself\u001b[39m\u001b[39m.\u001b[39mik_precision_treshold \u001b[39mand\u001b[39;00m repeat_counter \u001b[39m<\u001b[39m \u001b[39mself\u001b[39m\u001b[39m.\u001b[39mmax_ik_repeat:\n\u001b[0;32m--> 317\u001b[0m     computed_ik_joint_pos \u001b[39m=\u001b[39m p\u001b[39m.\u001b[39;49mcalculateInverseKinematics(\u001b[39mself\u001b[39;49m\u001b[39m.\u001b[39;49mpandaUid, \u001b[39m11\u001b[39;49m, target_ee_pos,\n\u001b[1;32m    318\u001b[0m                                                          \u001b[39mself\u001b[39;49m\u001b[39m.\u001b[39;49mfixed_orientation)\n\u001b[1;32m    319\u001b[0m     \u001b[39m# Set the joints\u001b[39;00m\n\u001b[1;32m    320\u001b[0m     p\u001b[39m.\u001b[39msetJointMotorControlArray(\u001b[39mself\u001b[39m\u001b[39m.\u001b[39mpandaUid, \u001b[39mlist\u001b[39m(\u001b[39mrange\u001b[39m(\u001b[39m7\u001b[39m)), p\u001b[39m.\u001b[39mPOSITION_CONTROL,\n\u001b[1;32m    321\u001b[0m                                 \u001b[39mlist\u001b[39m(computed_ik_joint_pos[:\u001b[39m-\u001b[39m\u001b[39m2\u001b[39m]), forces\u001b[39m=\u001b[39m[\u001b[39m500.0\u001b[39m] \u001b[39m*\u001b[39m \u001b[39m7\u001b[39m)\n",
      "\u001b[0;31mKeyboardInterrupt\u001b[0m: "
     ]
    }
   ],
   "source": [
    "run_CMA(OBS_INIT)"
   ]
  },
  {
   "cell_type": "code",
   "execution_count": null,
   "metadata": {},
   "outputs": [],
   "source": [
    "#Optimized 1\n",
    "hyperparameters = [5.38209705132172, 0.000818226196113964, 5.69249384639353, 3.435367933700074, 6.2953055533397855]\n",
    "\n",
    "evalHP(hyperparameters, 100, OBS_INIT)\n"
   ]
  },
  {
   "cell_type": "code",
   "execution_count": null,
   "metadata": {},
   "outputs": [],
   "source": [
    "#Optimized 1\n",
    "hyperparameters = [0.5, 0.01, 1, 1, 0.1]\n",
    "\n",
    "evalHP(hyperparameters, 100, OBS_INIT)"
   ]
  }
 ],
 "metadata": {
  "kernelspec": {
   "display_name": "Python 3",
   "language": "python",
   "name": "python3"
  },
  "language_info": {
   "codemirror_mode": {
    "name": "ipython",
    "version": 3
   },
   "file_extension": ".py",
   "mimetype": "text/x-python",
   "name": "python",
   "nbconvert_exporter": "python",
   "pygments_lexer": "ipython3",
   "version": "3.8.10"
  },
  "orig_nbformat": 4
 },
 "nbformat": 4,
 "nbformat_minor": 2
}
